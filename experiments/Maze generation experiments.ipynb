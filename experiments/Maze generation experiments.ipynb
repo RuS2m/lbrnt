{
 "cells": [
  {
   "cell_type": "markdown",
   "id": "d56909f1",
   "metadata": {},
   "source": [
    "# Maze generation experiments\n",
    "\n",
    "This notebook is dedicated to attempts to balance algorithm of procedural generation of maze for the game \"The Labyrinth\". The rules for the map to take into consideration:\n",
    "- Maze should be of size N x N, (N is variable)\n",
    "- Between every two cells there could be a wall, however the maze should always be connected, every cell of the maze should be accesssible from every other cell of the maze\n",
    "- Maze should have few isolated \"rooms\" with only 1 or 2 holes: \"hospital\", \"armory\", \"bear's lair\" (optional)\n",
    "  - \"armory\" and \"hospital\" should have a square of from 3 to 5 cells\n",
    "  - \"bear's lair\" should be of size 2 cells with 1 hole only (also should be optional for generation)\n",
    "- in the outer wall there should be exactly 1 hole\n",
    "- at the end we should have an algorithm to randomly distribute \"things\" across the map (such as: people and items) with certain limitations:\n",
    "  - treasure shouldn't be too close to the outer wall hole\n",
    "  - people shouldn't be too close to the outer wall hole and from the treasure, also, if possible, equally far from each other. Final goal here that it should be evenly \"difficult\" for every person to complete the maze\n",
    "  - other items should be equally distributed across entire maze\n",
    "  \n",
    "---\n",
    "### Optional rules to experiment with for bigger maps:\n",
    "- River generation\n",
    "- Portals generation"
   ]
  },
  {
   "cell_type": "markdown",
   "id": "b55b4946",
   "metadata": {},
   "source": [
    "## Theory\n",
    "\n",
    "We would approach this problem by decomposing it into 3:\n",
    "\n",
    "1. **Base map generation:** Firstly, we will be generating base maze ensuring maze's connectivity with all sorts of algorithms, choosing the one that creates the most interesting mazes to play (First ones that I want to try out would be Randomized Prim's Algorithm, Randomized Kruskal's Algorithm and Recursive Division)\n",
    "2. **Areas generation:** Secondly, we will be choosing in the maze some candidates for our areas (\"armory\", \"hospital\" and \"bear's lair\") and then with use of flood-fill algorithm would modify existing maze's walls, not breaking the maze's connectivity\n",
    "3. **Fair distribution algorithm:** Lastly, we would be fairly distributing items and people across the algorithm, applying special rules"
   ]
  },
  {
   "cell_type": "markdown",
   "id": "2adf8cf4",
   "metadata": {},
   "source": [
    "## Useful Resources\n",
    "- Incredible website with a lot of maze generation algorithms: https://weblog.jamisbuck.org/2011/2/7/maze-generation-algorithm-recap.html"
   ]
  },
  {
   "cell_type": "markdown",
   "id": "c5dd2b55",
   "metadata": {},
   "source": [
    "## Base map generation"
   ]
  },
  {
   "cell_type": "markdown",
   "id": "675d9260",
   "metadata": {},
   "source": [
    "### Log:\n",
    "\n",
    "**7th April:**\n",
    "- As I researched deeper the randomized maze generation algorithms, all of them appear to generate quite dense mazes\n",
    "- Probably going to experiment with all the graphs listed in https://weblog.jamisbuck.org/2011/2/7/maze-generation-algorithm-recap.html\n",
    "  - [ ] recursive backtracker\n",
    "  - [ ] Eller’s algorithm\n",
    "  - [ ] Kruskal’s algorithm\n",
    "  - [ ] Prim’s algorithm\n",
    "  - [ ] recursive division algorithm\n",
    "  - [ ] Aldous-Broder algorithm\n",
    "  - [ ] Wilson’s algorithm\n",
    "  - [ ] Hunt-and-Kill algorithm\n",
    "  - [ ] Growing Tree algorithm\n",
    "  - [ ] Binary Tree algorithm\n",
    "  - [ ] Sidewinder algorithm\n",
    "  - [ ] Any other algorithms that I come up along the way (ugh it's so many of them, good luck, future version of me)\n",
    "- And for each of them reduce the number of walls to some portion (customizable) of all possible ones\n",
    "  - according to the mazes that we build ourselves, the portion of walls compared to all possible walls should be around 22% (40 out of 180)"
   ]
  },
  {
   "cell_type": "code",
   "execution_count": 1,
   "id": "0eedfd50",
   "metadata": {},
   "outputs": [],
   "source": [
    "# Imports\n",
    "import numpy as np\n",
    "import random\n",
    "import matplotlib.pyplot as plt"
   ]
  },
  {
   "cell_type": "code",
   "execution_count": 2,
   "id": "c6909e81",
   "metadata": {},
   "outputs": [],
   "source": [
    "# Common parts\n",
    "# ------------\n",
    "\n",
    "# constants for passage directions\n",
    "# Note: this may be deleted later after speed optimization, but for now, at the experimentation phase I think it's fine\n",
    "N, S, E, W = 1, 2, 4, 8\n",
    "DX = { E: 1, W: -1, N:  0, S: 0 }\n",
    "DY = { E: 0, W:  0, N: -1, S: 1 }\n",
    "OPPOSITE = { E: W, W: E, N: S, S: N }\n",
    "\n",
    "# method to draw a maze from grid\n",
    "def draw_maze(grid):\n",
    "    fig, ax = plt.subplots(figsize=(10, 10))\n",
    "    nrows, ncols = grid.shape\n",
    "    \n",
    "    ax.set_xlim(0, ncols)\n",
    "    ax.set_ylim(0, nrows)\n",
    "    ax.set_aspect('equal')\n",
    "    \n",
    "    for y in range(nrows):\n",
    "        for x in range(ncols):\n",
    "            if grid[y, x] & N:\n",
    "                ax.plot([x, x+1], [nrows-y, nrows-y], color=\"black\",linewidth=3)\n",
    "            if grid[y, x] & S:\n",
    "                ax.plot([x, x+1], [nrows-y-1, nrows-y-1], color=\"black\", linewidth=3)\n",
    "            if grid[y, x] & W:\n",
    "                ax.plot([x, x], [nrows-y-1, nrows-y], color=\"black\", linewidth=3)\n",
    "            if grid[y, x] & E:\n",
    "                ax.plot([x+1, x+1], [nrows-y-1, nrows-y], color=\"black\", linewidth=3)\n",
    "            \n",
    "    plt.axis('off')\n",
    "    plt.show()"
   ]
  },
  {
   "cell_type": "markdown",
   "id": "2051c2d9",
   "metadata": {},
   "source": [
    "### Recursive backtracker"
   ]
  },
  {
   "cell_type": "code",
   "execution_count": 3,
   "id": "1588092c",
   "metadata": {},
   "outputs": [],
   "source": [
    "def generate_maze_by_recursive_backtracker(maze_size: int):\n",
    "    grid = np.zeros([maze_size, maze_size], dtype=int) # representing walls as bitfields\n",
    "    def carve_passages_from(cx, cy, grid):\n",
    "        directions = [N, S, E, W]\n",
    "        random.shuffle(directions)\n",
    "        for direction in directions:\n",
    "            nx, ny = cx + DX[direction], cy + DY[direction]\n",
    "            if ny >= 0 and ny < maze_size and nx >= 0 and nx < maze_size and grid[ny][nx] == 0:\n",
    "                grid[cy][cx] |= direction\n",
    "                grid[ny][nx] |= OPPOSITE[direction]\n",
    "                carve_passages_from(nx, ny, grid)\n",
    "        \n",
    "    carve_passages_from(0, 0, grid)\n",
    "    grid = N+S+E+W-grid # we actually need an inversion of that\n",
    "    return grid"
   ]
  },
  {
   "cell_type": "code",
   "execution_count": 4,
   "id": "7cfb7619",
   "metadata": {},
   "outputs": [
    {
     "data": {
      "image/png": "[encoded data removed]",
      "text/plain": [
       "<Figure size 720x720 with 1 Axes>"
      ]
     },
     "metadata": {
      "needs_background": "light"
     },
     "output_type": "display_data"
    }
   ],
   "source": [
    "draw_maze(generate_maze_by_recursive_backtracker(10))"
   ]
  },
  {
   "cell_type": "code",
   "execution_count": null,
   "id": "5b231a01",
   "metadata": {},
   "outputs": [],
   "source": []
  }
 ],
 "metadata": {
  "kernelspec": {
   "display_name": "Python 3 (ipykernel)",
   "language": "python",
   "name": "python3"
  },
  "language_info": {
   "codemirror_mode": {
    "name": "ipython",
    "version": 3
   },
   "file_extension": ".py",
   "mimetype": "text/x-python",
   "name": "python",
   "nbconvert_exporter": "python",
   "pygments_lexer": "ipython3",
   "version": "3.9.18"
  }
 },
 "nbformat": 4,
 "nbformat_minor": 5
}
